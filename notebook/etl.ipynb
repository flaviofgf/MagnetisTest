{
 "cells": [
  {
   "cell_type": "code",
   "execution_count": 25,
   "metadata": {
    "collapsed": true
   },
   "outputs": [],
   "source": [
    "from pyspark.sql import SparkSession\n",
    "from pyspark.sql.functions import *\n",
    "from pyspark.sql import Window, types\n",
    "\n",
    "spark = SparkSession\\\n",
    "    .builder\\\n",
    "    .appName(\"etl\")\\\n",
    "    .getOrCreate()"
   ]
  },
  {
   "cell_type": "code",
   "execution_count": 2,
   "outputs": [],
   "source": [
    "def cast_columns(df, columns):\n",
    "    for col_name, (col_type, col_type_params) in columns.items():\n",
    "        df = df.withColumn(col_name, df[col_name].cast(col_type(**col_type_params)))\n",
    "    return df\n",
    "\n",
    "def parse_json_columns(df, columns, json_columns):\n",
    "    for json_col_name, schema in json_columns.items():\n",
    "        df = df.withColumn(json_col_name, from_json(json_col_name, schema))\\\n",
    "             .select(\n",
    "                *[col(col_name) for col_name in columns.keys() if not col_name == json_col_name],\n",
    "                col(f'{json_col_name}.*')\n",
    "        )\n",
    "    return df\n",
    "\n",
    "def remap_columns(df, columns):\n",
    "    for col_name, mapping in columns.items():\n",
    "        df = df.replace(to_replace=mapping, subset=[col_name])\n",
    "    return df"
   ],
   "metadata": {
    "collapsed": false,
    "pycharm": {
     "name": "#%%\n"
    }
   }
  },
  {
   "cell_type": "code",
   "execution_count": 3,
   "outputs": [
    {
     "name": "stdout",
     "output_type": "stream",
     "text": [
      "+-------+--------------------+--------------+-----------------+---------------+-------------+-------------------+-----------------+---------+----------+--------------+\n",
      "|user_id|      dados_pessoais|nivel_de_risco|         objetivo|perfil_de_risco|fez_adicional|fez_resgate_parcial|fez_resgate_total| poupanca|renda_fixa|renda_variavel|\n",
      "+-------+--------------------+--------------+-----------------+---------------+-------------+-------------------+-----------------+---------+----------+--------------+\n",
      "|      1|{\"genero\": \"male\"...|             3|     build_wealth|         medium|            1|                  0|                0| 100000.0|      null|          null|\n",
      "|      2|{\"genero\": \"femal...|             4|     build_wealth|            low|            1|                  1|                0| 190000.0|  190000.0|          null|\n",
      "|      3|{\"genero\": \"male\"...|             5|     build_wealth|         medium|            1|                  0|                0|     null|    1200.0|          null|\n",
      "|      4|{\"genero\": \"male\"...|             3|secure_retirement|         medium|            1|                  0|                0|     null|      null|          null|\n",
      "|      5|{\"genero\": \"male\"...|             5|secure_retirement|           high|            1|                  1|                0|  20000.0|    7500.0|          null|\n",
      "|      6|{\"genero\": \"femal...|             2|  child_education|            low|            1|                  1|                0|  50000.0|  400000.0|       30000.0|\n",
      "|      7|{\"genero\": \"male\"...|             5|     build_wealth|           high|            1|                  1|                0|     null|  300000.0|          null|\n",
      "|      8|{\"genero\": \"male\"...|             3|     build_wealth|            low|            1|                  1|                1|     null|   24000.0|          null|\n",
      "|      9|{\"genero\": \"male\"...|             5|     build_wealth|           high|            1|                  0|                0|     null|      null|          null|\n",
      "|     10|{\"genero\": \"male\"...|             4|     build_wealth|         medium|            1|                  1|                0|     null|      null|          null|\n",
      "|     11|{\"genero\": \"male\"...|             3|secure_retirement|           high|            1|                  0|                0|1000000.0| 4000000.0|     1000000.0|\n",
      "|     12|{\"genero\": \"male\"...|             4|secure_retirement|         medium|            1|                  1|                0|     null|      null|          null|\n",
      "|     13|{\"genero\": \"male\"...|             4|secure_retirement|            low|            1|                  1|                0|     null|  600000.0|      200000.0|\n",
      "|     14|{\"genero\": \"male\"...|             4|     build_wealth|         medium|            1|                  1|                0|     null|   70000.0|        2000.0|\n",
      "|     15|{\"genero\": \"femal...|             3|secure_retirement|            low|            1|                  0|                0| 200000.0|  800000.0|      200000.0|\n",
      "|     16|{\"genero\": \"male\"...|             4|     build_wealth|           high|            1|                  0|                1|     null|  160000.0|       40000.0|\n",
      "|     17|{\"genero\": \"male\"...|             4| buy_house_or_car|            low|            1|                  1|                0| 100000.0|      null|          null|\n",
      "|     18|{\"genero\": \"male\"...|             5|     build_wealth|         medium|            0|                  1|                0|2000000.0|      null|          null|\n",
      "|     19|{\"genero\": \"male\"...|             3|secure_retirement|         medium|            1|                  1|                0|     null|      null|          null|\n",
      "|     20|{\"genero\": \"male\"...|             2|     build_wealth|         medium|            1|                  1|                1|  10000.0|    1500.0|        6000.0|\n",
      "+-------+--------------------+--------------+-----------------+---------------+-------------+-------------------+-----------------+---------+----------+--------------+\n",
      "only showing top 20 rows\n",
      "\n"
     ]
    }
   ],
   "source": [
    "csv_params = {\n",
    "    'header': True,\n",
    "    'inferSchema': True,\n",
    "    'encoding': 'utf-8',\n",
    "    'sep': ';',\n",
    "}\n",
    "\n",
    "users_df = spark.read.csv('../data/usuarios.csv', **csv_params)\n",
    "\n",
    "users_columns = {\n",
    "    'user_id': (types.StringType, {}),\n",
    "    'dados_pessoais': (types.StringType, {}),\n",
    "    'nivel_de_risco': (types.IntegerType, {}),\n",
    "    'objetivo': (types.StringType, {}),\n",
    "    'perfil_de_risco': (types.StringType, {}),\n",
    "    'fez_adicional': (types.BooleanType, {}),\n",
    "    'fez_resgate_parcial': (types.BooleanType, {}),\n",
    "    'fez_resgate_total': (types.BooleanType, {}),\n",
    "    'poupanca': (types.DecimalType, {'precision': 10, 'scale': 2}),\n",
    "    'renda_fixa': (types.DecimalType, {'precision': 10, 'scale': 2}),\n",
    "    'renda_variavel': (types.DecimalType, {'precision': 10, 'scale': 2}),\n",
    "}\n",
    "\n",
    "users_json_columns = {\n",
    "    'dados_pessoais': types.StructType([\n",
    "                          types.StructField('genero', types.StringType(), True),\n",
    "                          types.StructField('estado_civil', types.StringType(), True),\n",
    "                          types.StructField('idade', types.StringType(), True),\n",
    "                      ]),\n",
    "}\n",
    "\n",
    "\n",
    "users_remap_columns = {\n",
    "    'estado_civil': {\n",
    "        'CASADO(A) COM BRASILEIRO(A) NATO(A)': 'CASADO(A)',\n",
    "        'CASADO(A) COM BRASILEIRO(A) NATURALIZADO(A)': 'CASADO(A)',\n",
    "        'UNIAO ESTAVEL': 'CASADO(A)',\n",
    "    }\n",
    "}\n",
    "\n",
    "users_df.show()"
   ],
   "metadata": {
    "collapsed": false,
    "pycharm": {
     "name": "#%%\n"
    }
   }
  },
  {
   "cell_type": "code",
   "execution_count": 4,
   "outputs": [
    {
     "name": "stdout",
     "output_type": "stream",
     "text": [
      "+-------+--------------------+--------------+-----------------+---------------+-------------+-------------------+-----------------+----------+----------+--------------+\n",
      "|user_id|      dados_pessoais|nivel_de_risco|         objetivo|perfil_de_risco|fez_adicional|fez_resgate_parcial|fez_resgate_total|  poupanca|renda_fixa|renda_variavel|\n",
      "+-------+--------------------+--------------+-----------------+---------------+-------------+-------------------+-----------------+----------+----------+--------------+\n",
      "|      1|{\"genero\": \"male\"...|             3|     build_wealth|         medium|         true|              false|            false| 100000.00|      null|          null|\n",
      "|      2|{\"genero\": \"femal...|             4|     build_wealth|            low|         true|               true|            false| 190000.00| 190000.00|          null|\n",
      "|      3|{\"genero\": \"male\"...|             5|     build_wealth|         medium|         true|              false|            false|      null|   1200.00|          null|\n",
      "|      4|{\"genero\": \"male\"...|             3|secure_retirement|         medium|         true|              false|            false|      null|      null|          null|\n",
      "|      5|{\"genero\": \"male\"...|             5|secure_retirement|           high|         true|               true|            false|  20000.00|   7500.00|          null|\n",
      "|      6|{\"genero\": \"femal...|             2|  child_education|            low|         true|               true|            false|  50000.00| 400000.00|      30000.00|\n",
      "|      7|{\"genero\": \"male\"...|             5|     build_wealth|           high|         true|               true|            false|      null| 300000.00|          null|\n",
      "|      8|{\"genero\": \"male\"...|             3|     build_wealth|            low|         true|               true|             true|      null|  24000.00|          null|\n",
      "|      9|{\"genero\": \"male\"...|             5|     build_wealth|           high|         true|              false|            false|      null|      null|          null|\n",
      "|     10|{\"genero\": \"male\"...|             4|     build_wealth|         medium|         true|               true|            false|      null|      null|          null|\n",
      "|     11|{\"genero\": \"male\"...|             3|secure_retirement|           high|         true|              false|            false|1000000.00|4000000.00|    1000000.00|\n",
      "|     12|{\"genero\": \"male\"...|             4|secure_retirement|         medium|         true|               true|            false|      null|      null|          null|\n",
      "|     13|{\"genero\": \"male\"...|             4|secure_retirement|            low|         true|               true|            false|      null| 600000.00|     200000.00|\n",
      "|     14|{\"genero\": \"male\"...|             4|     build_wealth|         medium|         true|               true|            false|      null|  70000.00|       2000.00|\n",
      "|     15|{\"genero\": \"femal...|             3|secure_retirement|            low|         true|              false|            false| 200000.00| 800000.00|     200000.00|\n",
      "|     16|{\"genero\": \"male\"...|             4|     build_wealth|           high|         true|              false|             true|      null| 160000.00|      40000.00|\n",
      "|     17|{\"genero\": \"male\"...|             4| buy_house_or_car|            low|         true|               true|            false| 100000.00|      null|          null|\n",
      "|     18|{\"genero\": \"male\"...|             5|     build_wealth|         medium|        false|               true|            false|2000000.00|      null|          null|\n",
      "|     19|{\"genero\": \"male\"...|             3|secure_retirement|         medium|         true|               true|            false|      null|      null|          null|\n",
      "|     20|{\"genero\": \"male\"...|             2|     build_wealth|         medium|         true|               true|             true|  10000.00|   1500.00|       6000.00|\n",
      "+-------+--------------------+--------------+-----------------+---------------+-------------+-------------------+-----------------+----------+----------+--------------+\n",
      "only showing top 20 rows\n",
      "\n"
     ]
    }
   ],
   "source": [
    "users_df = cast_columns(users_df, users_columns)\n",
    "\n",
    "users_df.show()"
   ],
   "metadata": {
    "collapsed": false,
    "pycharm": {
     "name": "#%%\n"
    }
   }
  },
  {
   "cell_type": "code",
   "execution_count": 5,
   "outputs": [
    {
     "name": "stdout",
     "output_type": "stream",
     "text": [
      "+-------+--------------+-----------------+---------------+-------------+-------------------+-----------------+----------+----------+--------------+------+--------------------+-----+\n",
      "|user_id|nivel_de_risco|         objetivo|perfil_de_risco|fez_adicional|fez_resgate_parcial|fez_resgate_total|  poupanca|renda_fixa|renda_variavel|genero|        estado_civil|idade|\n",
      "+-------+--------------+-----------------+---------------+-------------+-------------------+-----------------+----------+----------+--------------+------+--------------------+-----+\n",
      "|      1|             3|     build_wealth|         medium|         true|              false|            false| 100000.00|      null|          null|  male|CASADO(A) COM BRA...|   40|\n",
      "|      2|             4|     build_wealth|            low|         true|               true|            false| 190000.00| 190000.00|          null|female|CASADO(A) COM BRA...|   38|\n",
      "|      3|             5|     build_wealth|         medium|         true|              false|            false|      null|   1200.00|          null|  male|       UNIAO ESTAVEL|   32|\n",
      "|      4|             3|secure_retirement|         medium|         true|              false|            false|      null|      null|          null|  male|         SOLTEIRO(A)|   33|\n",
      "|      5|             5|secure_retirement|           high|         true|               true|            false|  20000.00|   7500.00|          null|  male|CASADO(A) COM BRA...|   45|\n",
      "|      6|             2|  child_education|            low|         true|               true|            false|  50000.00| 400000.00|      30000.00|female|       DIVORCIADO(A)|   51|\n",
      "|      7|             5|     build_wealth|           high|         true|               true|            false|      null| 300000.00|          null|  male|         SOLTEIRO(A)|   44|\n",
      "|      8|             3|     build_wealth|            low|         true|               true|             true|      null|  24000.00|          null|  male|         SOLTEIRO(A)|   31|\n",
      "|      9|             5|     build_wealth|           high|         true|              false|            false|      null|      null|          null|  male|         SOLTEIRO(A)|   25|\n",
      "|     10|             4|     build_wealth|         medium|         true|               true|            false|      null|      null|          null|  male|CASADO(A) COM BRA...|   44|\n",
      "|     11|             3|secure_retirement|           high|         true|              false|            false|1000000.00|4000000.00|    1000000.00|  male|CASADO(A) COM BRA...|   50|\n",
      "|     12|             4|secure_retirement|         medium|         true|               true|            false|      null|      null|          null|  male|       UNIAO ESTAVEL|   36|\n",
      "|     13|             4|secure_retirement|            low|         true|               true|            false|      null| 600000.00|     200000.00|  male|CASADO(A) COM BRA...|   43|\n",
      "|     14|             4|     build_wealth|         medium|         true|               true|            false|      null|  70000.00|       2000.00|  male|CASADO(A) COM BRA...|   48|\n",
      "|     15|             3|secure_retirement|            low|         true|              false|            false| 200000.00| 800000.00|     200000.00|female|            VIUVO(A)|   73|\n",
      "|     16|             4|     build_wealth|           high|         true|              false|             true|      null| 160000.00|      40000.00|  male|         SOLTEIRO(A)|   33|\n",
      "|     17|             4| buy_house_or_car|            low|         true|               true|            false| 100000.00|      null|          null|  male|         SOLTEIRO(A)|   27|\n",
      "|     18|             5|     build_wealth|         medium|        false|               true|            false|2000000.00|      null|          null|  male|         SOLTEIRO(A)|   33|\n",
      "|     19|             3|secure_retirement|         medium|         true|               true|            false|      null|      null|          null|  male|CASADO(A) COM BRA...|   43|\n",
      "|     20|             2|     build_wealth|         medium|         true|               true|             true|  10000.00|   1500.00|       6000.00|  male|CASADO(A) COM BRA...|   44|\n",
      "+-------+--------------+-----------------+---------------+-------------+-------------------+-----------------+----------+----------+--------------+------+--------------------+-----+\n",
      "only showing top 20 rows\n",
      "\n"
     ]
    }
   ],
   "source": [
    "users_df = parse_json_columns(users_df, users_columns, users_json_columns)\n",
    "\n",
    "users_df.show()"
   ],
   "metadata": {
    "collapsed": false,
    "pycharm": {
     "name": "#%%\n"
    }
   }
  },
  {
   "cell_type": "code",
   "execution_count": 6,
   "outputs": [
    {
     "name": "stdout",
     "output_type": "stream",
     "text": [
      "+-------+--------------+-----------------+---------------+-------------+-------------------+-----------------+----------+----------+--------------+------+--------------------+-----+\n",
      "|user_id|nivel_de_risco|         objetivo|perfil_de_risco|fez_adicional|fez_resgate_parcial|fez_resgate_total|  poupanca|renda_fixa|renda_variavel|genero|        estado_civil|idade|\n",
      "+-------+--------------+-----------------+---------------+-------------+-------------------+-----------------+----------+----------+--------------+------+--------------------+-----+\n",
      "|      1|             3|     build_wealth|         medium|         true|              false|            false| 100000.00|      null|          null|  male|CASADO(A) COM BRA...|   40|\n",
      "|      2|             4|     build_wealth|            low|         true|               true|            false| 190000.00| 190000.00|          null|female|CASADO(A) COM BRA...|   38|\n",
      "|      3|             5|     build_wealth|         medium|         true|              false|            false|      null|   1200.00|          null|  male|       UNIAO ESTAVEL|   32|\n",
      "|      4|             3|secure_retirement|         medium|         true|              false|            false|      null|      null|          null|  male|         SOLTEIRO(A)|   33|\n",
      "|      5|             5|secure_retirement|           high|         true|               true|            false|  20000.00|   7500.00|          null|  male|CASADO(A) COM BRA...|   45|\n",
      "|      6|             2|  child_education|            low|         true|               true|            false|  50000.00| 400000.00|      30000.00|female|       DIVORCIADO(A)|   51|\n",
      "|      7|             5|     build_wealth|           high|         true|               true|            false|      null| 300000.00|          null|  male|         SOLTEIRO(A)|   44|\n",
      "|      8|             3|     build_wealth|            low|         true|               true|             true|      null|  24000.00|          null|  male|         SOLTEIRO(A)|   31|\n",
      "|      9|             5|     build_wealth|           high|         true|              false|            false|      null|      null|          null|  male|         SOLTEIRO(A)|   25|\n",
      "|     10|             4|     build_wealth|         medium|         true|               true|            false|      null|      null|          null|  male|CASADO(A) COM BRA...|   44|\n",
      "|     11|             3|secure_retirement|           high|         true|              false|            false|1000000.00|4000000.00|    1000000.00|  male|CASADO(A) COM BRA...|   50|\n",
      "|     12|             4|secure_retirement|         medium|         true|               true|            false|      null|      null|          null|  male|       UNIAO ESTAVEL|   36|\n",
      "|     13|             4|secure_retirement|            low|         true|               true|            false|      null| 600000.00|     200000.00|  male|CASADO(A) COM BRA...|   43|\n",
      "|     14|             4|     build_wealth|         medium|         true|               true|            false|      null|  70000.00|       2000.00|  male|CASADO(A) COM BRA...|   48|\n",
      "|     15|             3|secure_retirement|            low|         true|              false|            false| 200000.00| 800000.00|     200000.00|female|            VIUVO(A)|   73|\n",
      "|     16|             4|     build_wealth|           high|         true|              false|             true|      null| 160000.00|      40000.00|  male|         SOLTEIRO(A)|   33|\n",
      "|     17|             4| buy_house_or_car|            low|         true|               true|            false| 100000.00|      null|          null|  male|         SOLTEIRO(A)|   27|\n",
      "|     18|             5|     build_wealth|         medium|        false|               true|            false|2000000.00|      null|          null|  male|         SOLTEIRO(A)|   33|\n",
      "|     19|             3|secure_retirement|         medium|         true|               true|            false|      null|      null|          null|  male|CASADO(A) COM BRA...|   43|\n",
      "|     20|             2|     build_wealth|         medium|         true|               true|             true|  10000.00|   1500.00|       6000.00|  male|CASADO(A) COM BRA...|   44|\n",
      "+-------+--------------+-----------------+---------------+-------------+-------------------+-----------------+----------+----------+--------------+------+--------------------+-----+\n",
      "only showing top 20 rows\n",
      "\n"
     ]
    }
   ],
   "source": [
    "new_columns = {\n",
    "    'idade': (types.IntegerType, {}),\n",
    "}\n",
    "\n",
    "users_df = cast_columns(users_df, new_columns)\n",
    "\n",
    "users_df.show()"
   ],
   "metadata": {
    "collapsed": false,
    "pycharm": {
     "name": "#%%\n"
    }
   }
  },
  {
   "cell_type": "code",
   "execution_count": 7,
   "outputs": [
    {
     "name": "stdout",
     "output_type": "stream",
     "text": [
      "+-------+--------------+-----------------+---------------+-------------+-------------------+-----------------+----------+----------+--------------+------+-------------+-----+\n",
      "|user_id|nivel_de_risco|         objetivo|perfil_de_risco|fez_adicional|fez_resgate_parcial|fez_resgate_total|  poupanca|renda_fixa|renda_variavel|genero| estado_civil|idade|\n",
      "+-------+--------------+-----------------+---------------+-------------+-------------------+-----------------+----------+----------+--------------+------+-------------+-----+\n",
      "|      1|             3|     build_wealth|         medium|         true|              false|            false| 100000.00|      null|          null|  male|    CASADO(A)|   40|\n",
      "|      2|             4|     build_wealth|            low|         true|               true|            false| 190000.00| 190000.00|          null|female|    CASADO(A)|   38|\n",
      "|      3|             5|     build_wealth|         medium|         true|              false|            false|      null|   1200.00|          null|  male|    CASADO(A)|   32|\n",
      "|      4|             3|secure_retirement|         medium|         true|              false|            false|      null|      null|          null|  male|  SOLTEIRO(A)|   33|\n",
      "|      5|             5|secure_retirement|           high|         true|               true|            false|  20000.00|   7500.00|          null|  male|    CASADO(A)|   45|\n",
      "|      6|             2|  child_education|            low|         true|               true|            false|  50000.00| 400000.00|      30000.00|female|DIVORCIADO(A)|   51|\n",
      "|      7|             5|     build_wealth|           high|         true|               true|            false|      null| 300000.00|          null|  male|  SOLTEIRO(A)|   44|\n",
      "|      8|             3|     build_wealth|            low|         true|               true|             true|      null|  24000.00|          null|  male|  SOLTEIRO(A)|   31|\n",
      "|      9|             5|     build_wealth|           high|         true|              false|            false|      null|      null|          null|  male|  SOLTEIRO(A)|   25|\n",
      "|     10|             4|     build_wealth|         medium|         true|               true|            false|      null|      null|          null|  male|    CASADO(A)|   44|\n",
      "|     11|             3|secure_retirement|           high|         true|              false|            false|1000000.00|4000000.00|    1000000.00|  male|    CASADO(A)|   50|\n",
      "|     12|             4|secure_retirement|         medium|         true|               true|            false|      null|      null|          null|  male|    CASADO(A)|   36|\n",
      "|     13|             4|secure_retirement|            low|         true|               true|            false|      null| 600000.00|     200000.00|  male|    CASADO(A)|   43|\n",
      "|     14|             4|     build_wealth|         medium|         true|               true|            false|      null|  70000.00|       2000.00|  male|    CASADO(A)|   48|\n",
      "|     15|             3|secure_retirement|            low|         true|              false|            false| 200000.00| 800000.00|     200000.00|female|     VIUVO(A)|   73|\n",
      "|     16|             4|     build_wealth|           high|         true|              false|             true|      null| 160000.00|      40000.00|  male|  SOLTEIRO(A)|   33|\n",
      "|     17|             4| buy_house_or_car|            low|         true|               true|            false| 100000.00|      null|          null|  male|  SOLTEIRO(A)|   27|\n",
      "|     18|             5|     build_wealth|         medium|        false|               true|            false|2000000.00|      null|          null|  male|  SOLTEIRO(A)|   33|\n",
      "|     19|             3|secure_retirement|         medium|         true|               true|            false|      null|      null|          null|  male|    CASADO(A)|   43|\n",
      "|     20|             2|     build_wealth|         medium|         true|               true|             true|  10000.00|   1500.00|       6000.00|  male|    CASADO(A)|   44|\n",
      "+-------+--------------+-----------------+---------------+-------------+-------------------+-----------------+----------+----------+--------------+------+-------------+-----+\n",
      "only showing top 20 rows\n",
      "\n"
     ]
    }
   ],
   "source": [
    "users_df = remap_columns(users_df, users_remap_columns)\n",
    "\n",
    "users_df.show()"
   ],
   "metadata": {
    "collapsed": false,
    "pycharm": {
     "name": "#%%\n"
    }
   }
  },
  {
   "cell_type": "code",
   "execution_count": 8,
   "outputs": [
    {
     "name": "stdout",
     "output_type": "stream",
     "text": [
      "+-------+--------------+-----------------+---------------+-------------+-------------------+-----------------+----------+----------+--------------+------+-------------+-----+--------------------------+----------------------+\n",
      "|user_id|nivel_de_risco|         objetivo|perfil_de_risco|fez_adicional|fez_resgate_parcial|fez_resgate_total|  poupanca|renda_fixa|renda_variavel|genero| estado_civil|idade|flag_investidor_recorrente|investimentos_externos|\n",
      "+-------+--------------+-----------------+---------------+-------------+-------------------+-----------------+----------+----------+--------------+------+-------------+-----+--------------------------+----------------------+\n",
      "|      1|             3|     build_wealth|         medium|         true|              false|            false| 100000.00|      0.00|          0.00|  male|    CASADO(A)|   40|                      true|             100000.00|\n",
      "|      2|             4|     build_wealth|            low|         true|               true|            false| 190000.00| 190000.00|          0.00|female|    CASADO(A)|   38|                     false|             380000.00|\n",
      "|      3|             5|     build_wealth|         medium|         true|              false|            false|      0.00|   1200.00|          0.00|  male|    CASADO(A)|   32|                      true|               1200.00|\n",
      "|      4|             3|secure_retirement|         medium|         true|              false|            false|      0.00|      0.00|          0.00|  male|  SOLTEIRO(A)|   33|                      true|                  0.00|\n",
      "|      5|             5|secure_retirement|           high|         true|               true|            false|  20000.00|   7500.00|          0.00|  male|    CASADO(A)|   45|                     false|              27500.00|\n",
      "|      6|             2|  child_education|            low|         true|               true|            false|  50000.00| 400000.00|      30000.00|female|DIVORCIADO(A)|   51|                     false|             480000.00|\n",
      "|      7|             5|     build_wealth|           high|         true|               true|            false|      0.00| 300000.00|          0.00|  male|  SOLTEIRO(A)|   44|                     false|             300000.00|\n",
      "|      8|             3|     build_wealth|            low|         true|               true|             true|      0.00|  24000.00|          0.00|  male|  SOLTEIRO(A)|   31|                     false|              24000.00|\n",
      "|      9|             5|     build_wealth|           high|         true|              false|            false|      0.00|      0.00|          0.00|  male|  SOLTEIRO(A)|   25|                      true|                  0.00|\n",
      "|     10|             4|     build_wealth|         medium|         true|               true|            false|      0.00|      0.00|          0.00|  male|    CASADO(A)|   44|                     false|                  0.00|\n",
      "|     11|             3|secure_retirement|           high|         true|              false|            false|1000000.00|4000000.00|    1000000.00|  male|    CASADO(A)|   50|                      true|            6000000.00|\n",
      "|     12|             4|secure_retirement|         medium|         true|               true|            false|      0.00|      0.00|          0.00|  male|    CASADO(A)|   36|                     false|                  0.00|\n",
      "|     13|             4|secure_retirement|            low|         true|               true|            false|      0.00| 600000.00|     200000.00|  male|    CASADO(A)|   43|                     false|             800000.00|\n",
      "|     14|             4|     build_wealth|         medium|         true|               true|            false|      0.00|  70000.00|       2000.00|  male|    CASADO(A)|   48|                     false|              72000.00|\n",
      "|     15|             3|secure_retirement|            low|         true|              false|            false| 200000.00| 800000.00|     200000.00|female|     VIUVO(A)|   73|                      true|            1200000.00|\n",
      "|     16|             4|     build_wealth|           high|         true|              false|             true|      0.00| 160000.00|      40000.00|  male|  SOLTEIRO(A)|   33|                     false|             200000.00|\n",
      "|     17|             4| buy_house_or_car|            low|         true|               true|            false| 100000.00|      0.00|          0.00|  male|  SOLTEIRO(A)|   27|                     false|             100000.00|\n",
      "|     18|             5|     build_wealth|         medium|        false|               true|            false|2000000.00|      0.00|          0.00|  male|  SOLTEIRO(A)|   33|                     false|            2000000.00|\n",
      "|     19|             3|secure_retirement|         medium|         true|               true|            false|      0.00|      0.00|          0.00|  male|    CASADO(A)|   43|                     false|                  0.00|\n",
      "|     20|             2|     build_wealth|         medium|         true|               true|             true|  10000.00|   1500.00|       6000.00|  male|    CASADO(A)|   44|                     false|              17500.00|\n",
      "+-------+--------------+-----------------+---------------+-------------+-------------------+-----------------+----------+----------+--------------+------+-------------+-----+--------------------------+----------------------+\n",
      "only showing top 20 rows\n",
      "\n"
     ]
    }
   ],
   "source": [
    "users_df = users_df.fillna(0, [\n",
    "    'poupanca',\n",
    "    'renda_fixa',\n",
    "    'renda_variavel',\n",
    "])\n",
    "\n",
    "users_df = users_df.withColumn(\n",
    "        'flag_investidor_recorrente',\n",
    "        users_df.fez_adicional & ~ (users_df.fez_resgate_parcial | users_df.fez_resgate_total)\n",
    ")\n",
    "\n",
    "users_df = users_df.withColumn(\n",
    "        'investimentos_externos',\n",
    "        col('poupanca') + col('renda_fixa') + col('renda_variavel')\n",
    ")\n",
    "\n",
    "users_df.show()\n",
    "\n",
    "users_df.toPandas().to_csv('../data/refined_zone/users.csv', header=True, sep=';')"
   ],
   "metadata": {
    "collapsed": false,
    "pycharm": {
     "name": "#%%\n"
    }
   }
  },
  {
   "cell_type": "code",
   "execution_count": 93,
   "outputs": [
    {
     "name": "stdout",
     "output_type": "stream",
     "text": [
      "+-------+-------------------+-------------+--------------+\n",
      "|user_id|          timestamp|       evento|valor_simulado|\n",
      "+-------+-------------------+-------------+--------------+\n",
      "|      1|2017-01-06 11:40:25|     Homepage|          null|\n",
      "|      1|2017-01-29 21:30:56|     Homepage|          null|\n",
      "|      1|2017-01-29 21:40:04|     Homepage|          null|\n",
      "|      1|2017-01-29 21:40:04|     Homepage|          null|\n",
      "|      1|2017-08-01 18:40:27|     Homepage|          null|\n",
      "|      1|2017-08-03 11:18:19|     Homepage|          null|\n",
      "|      1|2017-08-03 14:08:16|     Homepage|          null|\n",
      "|      1|2017-08-08 14:30:37|     Homepage|          null|\n",
      "|      1|2017-08-15 16:47:01|Questionnaire|        120000|\n",
      "|      1|2017-08-15 17:27:11|Questionnaire|        120000|\n",
      "|      1|2017-08-15 17:27:58|Questionnaire|        120000|\n",
      "|      1|2017-08-15 17:40:30|Questionnaire|        300000|\n",
      "|      1|2017-08-15 21:15:12|     Homepage|          null|\n",
      "|      1|2017-08-15 21:29:36|Questionnaire|        300000|\n",
      "|      1|2017-08-15 21:32:19|Questionnaire|        300000|\n",
      "|      1|2017-08-18 16:56:15|     Homepage|          null|\n",
      "|      1|2017-11-16 01:50:11|Questionnaire|         15000|\n",
      "|      2|2017-01-20 18:31:00|     Homepage|          null|\n",
      "|      2|2017-02-01 15:01:13|Questionnaire|          1000|\n",
      "|      2|2017-02-09 17:46:39|     Homepage|          null|\n",
      "+-------+-------------------+-------------+--------------+\n",
      "only showing top 20 rows\n",
      "\n"
     ]
    }
   ],
   "source": [
    "funnel_df = spark.read.csv('../data/funil.csv', **csv_params)\n",
    "\n",
    "funnel_df.show()"
   ],
   "metadata": {
    "collapsed": false,
    "pycharm": {
     "name": "#%%\n"
    }
   }
  },
  {
   "cell_type": "code",
   "execution_count": 98,
   "outputs": [
    {
     "name": "stdout",
     "output_type": "stream",
     "text": [
      "+-------+-------------------+-------------+--------------+------------+--------------------+--------------------+---------------+---------------------+\n",
      "|user_id|          timestamp|       evento|valor_simulado|ordem_evento|ordem_inversa_evento|ordem_valor_simulado|primeiro_evento|ultimo_valor_simulado|\n",
      "+-------+-------------------+-------------+--------------+------------+--------------------+--------------------+---------------+---------------------+\n",
      "|     31|2018-02-15 23:42:04|Questionnaire|       5000.00|           9|                   1|                   1|          false|                 true|\n",
      "|     31|2017-08-10 17:07:16|Questionnaire|      50000.00|           8|                   2|                   2|          false|                false|\n",
      "|     31|2017-08-10 17:06:53|Questionnaire|      50000.00|           7|                   3|                   3|          false|                false|\n",
      "|     31|2017-08-10 17:06:47|Questionnaire|      50000.00|           6|                   4|                   4|          false|                false|\n",
      "|     31|2017-03-31 13:54:18|     Homepage|          null|           5|                   5|                   1|          false|                false|\n",
      "|     31|2017-03-30 17:21:17|     Homepage|          null|           4|                   6|                   2|          false|                false|\n",
      "|     31|2017-03-30 15:40:18|     Homepage|          null|           3|                   7|                   3|          false|                false|\n",
      "|     31|2017-03-30 15:38:48|     Homepage|          null|           2|                   8|                   4|          false|                false|\n",
      "|     31|2017-03-29 12:46:24|     Homepage|          null|           1|                   9|                   5|           true|                false|\n",
      "|     85|2017-06-22 21:22:17|Questionnaire|     110000.00|           2|                   4|                   1|          false|                 true|\n",
      "|     85|2017-06-28 20:19:15|     Homepage|          null|           5|                   1|                   1|          false|                false|\n",
      "|     85|2017-06-27 12:17:07|     Homepage|          null|           4|                   2|                   2|          false|                false|\n",
      "|     85|2017-06-26 12:34:57|     Homepage|          null|           3|                   3|                   3|          false|                false|\n",
      "|     85|2017-06-22 21:18:38|     Homepage|          null|           1|                   5|                   4|           true|                false|\n",
      "|     65|2017-06-29 00:16:12|Questionnaire|     400000.00|           4|                   4|                   1|          false|                 true|\n",
      "|     65|2017-06-09 01:37:54|Questionnaire|     150000.00|           3|                   5|                   2|          false|                false|\n",
      "|     65|2017-06-09 01:36:55|Questionnaire|     150000.00|           2|                   6|                   3|          false|                false|\n",
      "|     65|2017-08-16 18:07:23|     Homepage|          null|           7|                   1|                   1|          false|                false|\n",
      "|     65|2017-08-16 18:06:46|     Homepage|          null|           6|                   2|                   2|          false|                false|\n",
      "|     65|2017-08-15 18:54:38|     Homepage|          null|           5|                   3|                   3|          false|                false|\n",
      "+-------+-------------------+-------------+--------------+------------+--------------------+--------------------+---------------+---------------------+\n",
      "only showing top 20 rows\n",
      "\n"
     ]
    }
   ],
   "source": [
    "funnel_columns = {\n",
    "    'user_id': (types.IntegerType, {}),\n",
    "    'timestamp': (types.TimestampType, {}),\n",
    "    'evento': (types.StringType, {}),\n",
    "    'valor_simulado': (types.DecimalType, {'precision': 10, 'scale': 2}),\n",
    "}\n",
    "\n",
    "funnel_df = cast_columns(funnel_df, funnel_columns)\n",
    "\n",
    "funnel_df = funnel_df.withColumn(\n",
    "        'ordem_evento',\n",
    "        rank().over(Window.partitionBy('user_id').orderBy('timestamp'))\n",
    ")\n",
    "funnel_df = funnel_df.withColumn(\n",
    "        'ordem_inversa_evento',\n",
    "        rank().over(Window.partitionBy('user_id').orderBy(desc('timestamp')))\n",
    ")\n",
    "\n",
    "funnel_df = funnel_df.withColumn(\n",
    "        'ordem_valor_simulado',\n",
    "        rank().over(Window.partitionBy('user_id', col('valor_simulado').isNull()).orderBy(desc('timestamp')))\n",
    ")\n",
    "funnel_df = funnel_df.withColumn(\n",
    "        'primeiro_evento',\n",
    "        col('ordem_evento') == 1\n",
    ")\n",
    "funnel_df = funnel_df.withColumn(\n",
    "        'ultimo_valor_simulado',\n",
    "        col('valor_simulado').isNotNull() & (col('ordem_valor_simulado') == 1)\n",
    ")\n",
    "\n",
    "funnel_df.show()\n",
    "\n",
    "funnel_df.toPandas().to_csv('../data/refined_zone/funnel.csv', header=True, sep=';')"
   ],
   "metadata": {
    "collapsed": false,
    "pycharm": {
     "name": "#%%\n"
    }
   }
  },
  {
   "cell_type": "code",
   "execution_count": 99,
   "outputs": [
    {
     "name": "stdout",
     "output_type": "stream",
     "text": [
      "+-------+--------------+-----------------+---------------+-------------+-------------------+-----------------+----------+----------+--------------+------+-------------+-----+--------------------------+----------------------+-------------------+-------------+--------------+------------+--------------------+--------------------+---------------+---------------------+-------------------+-------------+--------------+------------+--------------------+--------------------+---------------+---------------------+\n",
      "|user_id|nivel_de_risco|         objetivo|perfil_de_risco|fez_adicional|fez_resgate_parcial|fez_resgate_total|  poupanca|renda_fixa|renda_variavel|genero| estado_civil|idade|flag_investidor_recorrente|investimentos_externos|          timestamp|       evento|valor_simulado|ordem_evento|ordem_inversa_evento|ordem_valor_simulado|primeiro_evento|ultimo_valor_simulado|          timestamp|       evento|valor_simulado|ordem_evento|ordem_inversa_evento|ordem_valor_simulado|primeiro_evento|ultimo_valor_simulado|\n",
      "+-------+--------------+-----------------+---------------+-------------+-------------------+-----------------+----------+----------+--------------+------+-------------+-----+--------------------------+----------------------+-------------------+-------------+--------------+------------+--------------------+--------------------+---------------+---------------------+-------------------+-------------+--------------+------------+--------------------+--------------------+---------------+---------------------+\n",
      "|      1|             3|     build_wealth|         medium|         true|              false|            false| 100000.00|      0.00|          0.00|  male|    CASADO(A)|   40|                      true|             100000.00|2017-01-06 11:40:25|     Homepage|          null|           1|                  17|                  10|           true|                false|2017-11-16 01:50:11|Questionnaire|      15000.00|          17|                   1|                   1|          false|                 true|\n",
      "|      2|             4|     build_wealth|            low|         true|               true|            false| 190000.00| 190000.00|          0.00|female|    CASADO(A)|   38|                     false|             380000.00|2017-01-20 18:31:00|     Homepage|          null|           1|                  13|                   8|           true|                false|2017-05-30 14:36:19|Questionnaire|       1000.00|          12|                   2|                   1|          false|                 true|\n",
      "|      3|             5|     build_wealth|         medium|         true|              false|            false|      0.00|   1200.00|          0.00|  male|    CASADO(A)|   32|                      true|               1200.00|2017-01-02 22:42:06|     Homepage|          null|           1|                  10|                   6|           true|                false|2017-05-30 15:05:35|Questionnaire|       1000.00|           8|                   3|                   1|          false|                 true|\n",
      "|      4|             3|secure_retirement|         medium|         true|              false|            false|      0.00|      0.00|          0.00|  male|  SOLTEIRO(A)|   33|                      true|                  0.00|2017-01-04 14:12:31|     Homepage|          null|           1|                  10|                   8|           true|                false|2017-04-25 13:48:08|Questionnaire|       1000.00|           7|                   4|                   1|          false|                 true|\n",
      "|      5|             5|secure_retirement|           high|         true|               true|            false|  20000.00|   7500.00|          0.00|  male|    CASADO(A)|   45|                     false|              27500.00|2017-01-07 13:55:49|     Homepage|          null|           1|                   9|                   6|           true|                false|2017-07-14 15:20:11|Questionnaire|      50000.00|           8|                   2|                   1|          false|                 true|\n",
      "|      6|             2|  child_education|            low|         true|               true|            false|  50000.00| 400000.00|      30000.00|female|DIVORCIADO(A)|   51|                     false|             480000.00|2017-01-05 13:36:28|     Homepage|          null|           1|                   8|                   6|           true|                false|2017-05-30 15:16:03|Questionnaire|         50.00|           6|                   3|                   1|          false|                 true|\n",
      "|      7|             5|     build_wealth|           high|         true|               true|            false|      0.00| 300000.00|          0.00|  male|  SOLTEIRO(A)|   44|                     false|             300000.00|2017-03-09 16:59:26|     Homepage|          null|           1|                  11|                   7|           true|                false|2017-11-21 13:44:00|Questionnaire|      20000.00|          11|                   1|                   1|          false|                 true|\n",
      "|      8|             3|     build_wealth|            low|         true|               true|             true|      0.00|  24000.00|          0.00|  male|  SOLTEIRO(A)|   31|                     false|              24000.00|2017-04-03 13:45:47|     Homepage|          null|           1|                   9|                   5|           true|                false|2018-06-09 17:30:20|Questionnaire|      25000.00|           9|                   1|                   1|          false|                 true|\n",
      "|      9|             5|     build_wealth|           high|         true|              false|            false|      0.00|      0.00|          0.00|  male|  SOLTEIRO(A)|   25|                      true|                  0.00|2017-01-03 12:40:26|Questionnaire|      15000.00|           1|                   4|                   2|           true|                false|2017-09-11 20:32:52|Questionnaire|      15000.00|           4|                   1|                   1|          false|                 true|\n",
      "|     10|             4|     build_wealth|         medium|         true|               true|            false|      0.00|      0.00|          0.00|  male|    CASADO(A)|   44|                     false|                  0.00|2017-07-02 16:17:05|     Homepage|          null|           1|                   3|                   2|           true|                false|2017-12-20 00:40:01|Questionnaire|      25000.00|           3|                   1|                   1|          false|                 true|\n",
      "|     11|             3|secure_retirement|           high|         true|              false|            false|1000000.00|4000000.00|    1000000.00|  male|    CASADO(A)|   50|                      true|            6000000.00|2017-07-21 18:02:53|     Homepage|          null|           1|                   6|                   1|           true|                false|2017-12-20 00:42:58|Questionnaire|      25000.00|           6|                   1|                   1|          false|                 true|\n",
      "|     12|             4|secure_retirement|         medium|         true|               true|            false|      0.00|      0.00|          0.00|  male|    CASADO(A)|   36|                     false|                  0.00|2017-02-02 17:44:02|     Homepage|          null|           1|                  12|                   6|           true|                false|2017-12-19 20:14:54|Questionnaire|      20000.00|          11|                   2|                   1|          false|                 true|\n",
      "|     13|             4|secure_retirement|            low|         true|               true|            false|      0.00| 600000.00|     200000.00|  male|    CASADO(A)|   43|                     false|             800000.00|2017-10-23 18:17:18|     Homepage|          null|           1|                   2|                   1|           true|                false|2017-11-03 20:32:00|Questionnaire|      15000.00|           2|                   1|                   1|          false|                 true|\n",
      "|     14|             4|     build_wealth|         medium|         true|               true|            false|      0.00|  70000.00|       2000.00|  male|    CASADO(A)|   48|                     false|              72000.00|2017-10-24 13:08:46|     Homepage|          null|           1|                   6|                   3|           true|                false|2018-05-11 02:24:19|Questionnaire|      25000.00|           6|                   1|                   1|          false|                 true|\n",
      "|     15|             3|secure_retirement|            low|         true|              false|            false| 200000.00| 800000.00|     200000.00|female|     VIUVO(A)|   73|                      true|            1200000.00|2017-11-17 17:28:19|     Homepage|          null|           1|                   4|                   2|           true|                false|2018-11-03 20:28:53|Questionnaire|      15000.00|           4|                   1|                   1|          false|                 true|\n",
      "|     16|             4|     build_wealth|           high|         true|              false|             true|      0.00| 160000.00|      40000.00|  male|  SOLTEIRO(A)|   33|                     false|             200000.00|2017-11-24 13:53:57|     Homepage|          null|           1|                  10|                   6|           true|                false|2018-01-20 18:44:48|Questionnaire|      15000.00|          10|                   1|                   1|          false|                 true|\n",
      "|     17|             4| buy_house_or_car|            low|         true|               true|            false| 100000.00|      0.00|          0.00|  male|  SOLTEIRO(A)|   27|                     false|             100000.00|2017-05-28 05:58:55|     Homepage|          null|           1|                   6|                   3|           true|                false|2018-03-15 14:01:34|Questionnaire|      25000.00|           6|                   1|                   1|          false|                 true|\n",
      "|     18|             5|     build_wealth|         medium|        false|               true|            false|2000000.00|      0.00|          0.00|  male|  SOLTEIRO(A)|   33|                     false|            2000000.00|2017-01-03 12:40:57|     Homepage|          null|           1|                  12|                   5|           true|                false|2017-12-10 23:23:50|Questionnaire|      20000.00|           9|                   4|                   1|          false|                 true|\n",
      "|     19|             3|secure_retirement|         medium|         true|               true|            false|      0.00|      0.00|          0.00|  male|    CASADO(A)|   43|                     false|                  0.00|2017-11-07 01:09:06|     Homepage|          null|           1|                   4|                   2|           true|                false|2018-01-16 12:49:26|Questionnaire|      20000.00|           3|                   2|                   1|          false|                 true|\n",
      "|     20|             2|     build_wealth|         medium|         true|               true|             true|  10000.00|   1500.00|       6000.00|  male|    CASADO(A)|   44|                     false|              17500.00|2017-01-03 12:40:08|     Homepage|          null|           1|                   6|                   3|           true|                false|2017-11-16 13:35:39|Questionnaire|      20000.00|           4|                   3|                   1|          false|                 true|\n",
      "+-------+--------------+-----------------+---------------+-------------+-------------------+-----------------+----------+----------+--------------+------+-------------+-----+--------------------------+----------------------+-------------------+-------------+--------------+------------+--------------------+--------------------+---------------+---------------------+-------------------+-------------+--------------+------------+--------------------+--------------------+---------------+---------------------+\n",
      "only showing top 20 rows\n",
      "\n"
     ]
    }
   ],
   "source": [
    "join = users_df.join(funnel_df.where('primeiro_evento is True').alias('f1'), ['user_id'], how='left')\n",
    "join = join.join(funnel_df.where('ultimo_valor_simulado is True').alias('f2'), ['user_id'], how='left')\n",
    "\n",
    "join.show()"
   ],
   "metadata": {
    "collapsed": false,
    "pycharm": {
     "name": "#%%\n"
    }
   }
  },
  {
   "cell_type": "code",
   "execution_count": 100,
   "outputs": [
    {
     "name": "stdout",
     "output_type": "stream",
     "text": [
      "+-------+------+------------+-----+--------------+-----------------+---------------+--------+--------------+--------------------------+----------------------+\n",
      "|user_id|genero|estado_civil|idade|nivel_de_risco|         objetivo|perfil_de_risco|homepage|valor_simulado|flag_investidor_recorrente|investimentos_externos|\n",
      "+-------+------+------------+-----+--------------+-----------------+---------------+--------+--------------+--------------------------+----------------------+\n",
      "|     70|  male| SOLTEIRO(A)|   39|             1|     build_wealth|            low| 2017-01|    2000000.00|                      true|              22000.00|\n",
      "|     62|  male|   CASADO(A)|   61|             3|     build_wealth|           high| 2017-05|      15000.00|                     false|              16000.00|\n",
      "|     35|  male|   CASADO(A)|   42|             4|     build_wealth|           high| 2017-02|      10000.00|                     false|             100000.00|\n",
      "|     57|female|   CASADO(A)|   39|             4|     build_wealth|           high| 2017-06|     220000.00|                     false|                  0.00|\n",
      "|     53|female| SOLTEIRO(A)|   37|             2|     build_wealth|      risk-free| 2017-06|     150000.00|                      true|                  0.00|\n",
      "|     94|  male|   CASADO(A)|   43|             3|secure_retirement|         medium| 2017-06|     101330.00|                     false|                  0.00|\n",
      "|     84|  male| SOLTEIRO(A)|   27|             4|     build_wealth|         medium| 2017-01|       5000.00|                      true|            2307010.37|\n",
      "|     92|  male|   CASADO(A)|   46|             1|secure_retirement|            low| 2018-01|     101330.00|                     false|              15000.00|\n",
      "|     77|  male| SOLTEIRO(A)|   30|             3|secure_retirement|           high| 2017-01|      10000.00|                     false|               1000.00|\n",
      "|     89|  male| SOLTEIRO(A)|   26|             5|     build_wealth|         medium| 2017-03|      60000.00|                      true|             170000.00|\n",
      "|     99|female|   CASADO(A)|   48|             4|     build_wealth|         medium| 2018-02|     101330.00|                      true|           36080000.00|\n",
      "|     52|  male| SOLTEIRO(A)|   75|             3|     build_wealth|            low| 2017-06|     150000.00|                      true|              40000.00|\n",
      "|     18|  male| SOLTEIRO(A)|   33|             5|     build_wealth|         medium| 2017-01|      20000.00|                     false|            2000000.00|\n",
      "|     16|  male| SOLTEIRO(A)|   33|             4|     build_wealth|           high| 2017-11|      15000.00|                     false|             200000.00|\n",
      "|     38|  male| SOLTEIRO(A)|   26|             3|     build_wealth|      risk-free| 2017-02|     350000.00|                      true|             100000.00|\n",
      "|     15|female|    VIUVO(A)|   73|             3|secure_retirement|            low| 2017-11|      15000.00|                      true|            1200000.00|\n",
      "|     95|  male| SOLTEIRO(A)|   30|             3| buy_house_or_car|         medium| 2017-03|      87200.00|                     false|                  0.00|\n",
      "|     74|  male| SOLTEIRO(A)|   31|             4|     build_wealth|         medium| 2017-02|      20000.00|                     false|              34000.00|\n",
      "|      4|  male| SOLTEIRO(A)|   33|             3|secure_retirement|         medium| 2017-01|       1000.00|                      true|                  0.00|\n",
      "|     39|  male|   CASADO(A)|   34|             3|secure_retirement|         medium| 2017-02|     300000.00|                      true|             137000.00|\n",
      "+-------+------+------------+-----+--------------+-----------------+---------------+--------+--------------+--------------------------+----------------------+\n",
      "only showing top 20 rows\n",
      "\n"
     ]
    }
   ],
   "source": [
    "result = join.select(\n",
    "        col('user_id'), col('genero'), col('estado_civil'), col('idade'), col('nivel_de_risco'),\n",
    "        col('objetivo'), col('perfil_de_risco'),\n",
    "        date_format(col('f1.timestamp'), 'yyyy-MM').alias('homepage'),\n",
    "        col('f2.valor_simulado').alias('valor_simulado'),\n",
    "        col('flag_investidor_recorrente'), col('investimentos_externos')\n",
    ").distinct()\n",
    "\n",
    "result.show()"
   ],
   "metadata": {
    "collapsed": false,
    "pycharm": {
     "name": "#%%\n"
    }
   }
  },
  {
   "cell_type": "code",
   "execution_count": 103,
   "outputs": [],
   "source": [
    "result.toPandas().to_csv('../data/ipynb_result.csv', header=True, sep=';')"
   ],
   "metadata": {
    "collapsed": false,
    "pycharm": {
     "name": "#%%\n"
    }
   }
  }
 ],
 "metadata": {
  "kernelspec": {
   "display_name": "Python 3",
   "language": "python",
   "name": "python3"
  },
  "language_info": {
   "codemirror_mode": {
    "name": "ipython",
    "version": 2
   },
   "file_extension": ".py",
   "mimetype": "text/x-python",
   "name": "python",
   "nbconvert_exporter": "python",
   "pygments_lexer": "ipython2",
   "version": "2.7.6"
  }
 },
 "nbformat": 4,
 "nbformat_minor": 0
}