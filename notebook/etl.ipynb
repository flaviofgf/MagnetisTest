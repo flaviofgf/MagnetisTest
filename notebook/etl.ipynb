{
 "cells": [
  {
   "cell_type": "code",
   "execution_count": 78,
   "metadata": {
    "collapsed": true
   },
   "outputs": [],
   "source": [
    "from pyspark.sql import SparkSession\n",
    "from pyspark.sql.functions import from_json, col, sum, first, last, date_format\n",
    "from pyspark.sql import Window, types\n",
    "\n",
    "spark = SparkSession\\\n",
    "    .builder\\\n",
    "    .appName(\"etl\")\\\n",
    "    .getOrCreate()"
   ]
  },
  {
   "cell_type": "code",
   "execution_count": 34,
   "outputs": [],
   "source": [
    "def cast_columns(df, columns):\n",
    "    for col_name, (col_type, col_type_params) in columns.items():\n",
    "        df = df.withColumn(col_name, df[col_name].cast(col_type(**col_type_params)))\n",
    "    return df\n",
    "\n",
    "def parse_json_columns(df, columns, json_columns):\n",
    "    for json_col_name, schema in json_columns.items():\n",
    "        df = df.withColumn(json_col_name, from_json(json_col_name, schema))\\\n",
    "             .select(\n",
    "                *[col(col_name) for col_name in columns.keys() if not col_name == json_col_name],\n",
    "                col(f'{json_col_name}.*')\n",
    "        )\n",
    "    return df\n",
    "\n",
    "def remap_columns(df, columns):\n",
    "    for col_name, mapping in columns.items():\n",
    "        df = df.replace(to_replace=mapping, subset=[col_name])\n",
    "    return df"
   ],
   "metadata": {
    "collapsed": false,
    "pycharm": {
     "name": "#%%\n"
    }
   }
  },
  {
   "cell_type": "code",
   "execution_count": 35,
   "outputs": [
    {
     "name": "stdout",
     "output_type": "stream",
     "text": [
      "+-------+--------------------+--------------+-----------------+---------------+-------------+-------------------+-----------------+---------+----------+--------------+\n",
      "|user_id|      dados_pessoais|nivel_de_risco|         objetivo|perfil_de_risco|fez_adicional|fez_resgate_parcial|fez_resgate_total| poupanca|renda_fixa|renda_variavel|\n",
      "+-------+--------------------+--------------+-----------------+---------------+-------------+-------------------+-----------------+---------+----------+--------------+\n",
      "|      1|{\"genero\": \"male\"...|             3|     build_wealth|         medium|            1|                  0|                0| 100000.0|      null|          null|\n",
      "|      2|{\"genero\": \"femal...|             4|     build_wealth|            low|            1|                  1|                0| 190000.0|  190000.0|          null|\n",
      "|      3|{\"genero\": \"male\"...|             5|     build_wealth|         medium|            1|                  0|                0|     null|    1200.0|          null|\n",
      "|      4|{\"genero\": \"male\"...|             3|secure_retirement|         medium|            1|                  0|                0|     null|      null|          null|\n",
      "|      5|{\"genero\": \"male\"...|             5|secure_retirement|           high|            1|                  1|                0|  20000.0|    7500.0|          null|\n",
      "|      6|{\"genero\": \"femal...|             2|  child_education|            low|            1|                  1|                0|  50000.0|  400000.0|       30000.0|\n",
      "|      7|{\"genero\": \"male\"...|             5|     build_wealth|           high|            1|                  1|                0|     null|  300000.0|          null|\n",
      "|      8|{\"genero\": \"male\"...|             3|     build_wealth|            low|            1|                  1|                1|     null|   24000.0|          null|\n",
      "|      9|{\"genero\": \"male\"...|             5|     build_wealth|           high|            1|                  0|                0|     null|      null|          null|\n",
      "|     10|{\"genero\": \"male\"...|             4|     build_wealth|         medium|            1|                  1|                0|     null|      null|          null|\n",
      "|     11|{\"genero\": \"male\"...|             3|secure_retirement|           high|            1|                  0|                0|1000000.0| 4000000.0|     1000000.0|\n",
      "|     12|{\"genero\": \"male\"...|             4|secure_retirement|         medium|            1|                  1|                0|     null|      null|          null|\n",
      "|     13|{\"genero\": \"male\"...|             4|secure_retirement|            low|            1|                  1|                0|     null|  600000.0|      200000.0|\n",
      "|     14|{\"genero\": \"male\"...|             4|     build_wealth|         medium|            1|                  1|                0|     null|   70000.0|        2000.0|\n",
      "|     15|{\"genero\": \"femal...|             3|secure_retirement|            low|            1|                  0|                0| 200000.0|  800000.0|      200000.0|\n",
      "|     16|{\"genero\": \"male\"...|             4|     build_wealth|           high|            1|                  0|                1|     null|  160000.0|       40000.0|\n",
      "|     17|{\"genero\": \"male\"...|             4| buy_house_or_car|            low|            1|                  1|                0| 100000.0|      null|          null|\n",
      "|     18|{\"genero\": \"male\"...|             5|     build_wealth|         medium|            0|                  1|                0|2000000.0|      null|          null|\n",
      "|     19|{\"genero\": \"male\"...|             3|secure_retirement|         medium|            1|                  1|                0|     null|      null|          null|\n",
      "|     20|{\"genero\": \"male\"...|             2|     build_wealth|         medium|            1|                  1|                1|  10000.0|    1500.0|        6000.0|\n",
      "+-------+--------------------+--------------+-----------------+---------------+-------------+-------------------+-----------------+---------+----------+--------------+\n",
      "only showing top 20 rows\n",
      "\n"
     ]
    }
   ],
   "source": [
    "csv_params = {\n",
    "    'header': True,\n",
    "    'inferSchema': True,\n",
    "    'encoding': 'utf-8',\n",
    "    'sep': ';',\n",
    "}\n",
    "\n",
    "users_df = spark.read.csv('/data/usuarios.csv', **csv_params)\n",
    "\n",
    "users_columns = {\n",
    "    'user_id': (types.StringType, {}),\n",
    "    'dados_pessoais': (types.StringType, {}),\n",
    "    'nivel_de_risco': (types.IntegerType, {}),\n",
    "    'objetivo': (types.StringType, {}),\n",
    "    'perfil_de_risco': (types.StringType, {}),\n",
    "    'fez_adicional': (types.BooleanType, {}),\n",
    "    'fez_resgate_parcial': (types.BooleanType, {}),\n",
    "    'fez_resgate_total': (types.BooleanType, {}),\n",
    "    'poupanca': (types.DecimalType, {'precision': 10, 'scale': 2}),\n",
    "    'renda_fixa': (types.DecimalType, {'precision': 10, 'scale': 2}),\n",
    "    'renda_variavel': (types.DecimalType, {'precision': 10, 'scale': 2}),\n",
    "}\n",
    "\n",
    "users_json_columns = {\n",
    "    'dados_pessoais': types.StructType([\n",
    "                          types.StructField('genero', types.StringType(), True),\n",
    "                          types.StructField('estado_civil', types.StringType(), True),\n",
    "                          types.StructField('idade', types.StringType(), True),\n",
    "                      ]),\n",
    "}\n",
    "\n",
    "\n",
    "users_remap_columns = {\n",
    "    'estado_civil': {\n",
    "        'CASADO(A) COM BRASILEIRO(A) NATO(A)': 'CASADO(A)',\n",
    "        'CASADO(A) COM BRASILEIRO(A) NATURALIZADO(A)': 'CASADO(A)',\n",
    "        'UNIAO ESTAVEL': 'CASADO(A)',\n",
    "    }\n",
    "}\n",
    "\n",
    "users_df.show()"
   ],
   "metadata": {
    "collapsed": false,
    "pycharm": {
     "name": "#%%\n"
    }
   }
  },
  {
   "cell_type": "code",
   "execution_count": 36,
   "outputs": [
    {
     "name": "stdout",
     "output_type": "stream",
     "text": [
      "+-------+--------------------+--------------+-----------------+---------------+-------------+-------------------+-----------------+----------+----------+--------------+\n",
      "|user_id|      dados_pessoais|nivel_de_risco|         objetivo|perfil_de_risco|fez_adicional|fez_resgate_parcial|fez_resgate_total|  poupanca|renda_fixa|renda_variavel|\n",
      "+-------+--------------------+--------------+-----------------+---------------+-------------+-------------------+-----------------+----------+----------+--------------+\n",
      "|      1|{\"genero\": \"male\"...|             3|     build_wealth|         medium|         true|              false|            false| 100000.00|      null|          null|\n",
      "|      2|{\"genero\": \"femal...|             4|     build_wealth|            low|         true|               true|            false| 190000.00| 190000.00|          null|\n",
      "|      3|{\"genero\": \"male\"...|             5|     build_wealth|         medium|         true|              false|            false|      null|   1200.00|          null|\n",
      "|      4|{\"genero\": \"male\"...|             3|secure_retirement|         medium|         true|              false|            false|      null|      null|          null|\n",
      "|      5|{\"genero\": \"male\"...|             5|secure_retirement|           high|         true|               true|            false|  20000.00|   7500.00|          null|\n",
      "|      6|{\"genero\": \"femal...|             2|  child_education|            low|         true|               true|            false|  50000.00| 400000.00|      30000.00|\n",
      "|      7|{\"genero\": \"male\"...|             5|     build_wealth|           high|         true|               true|            false|      null| 300000.00|          null|\n",
      "|      8|{\"genero\": \"male\"...|             3|     build_wealth|            low|         true|               true|             true|      null|  24000.00|          null|\n",
      "|      9|{\"genero\": \"male\"...|             5|     build_wealth|           high|         true|              false|            false|      null|      null|          null|\n",
      "|     10|{\"genero\": \"male\"...|             4|     build_wealth|         medium|         true|               true|            false|      null|      null|          null|\n",
      "|     11|{\"genero\": \"male\"...|             3|secure_retirement|           high|         true|              false|            false|1000000.00|4000000.00|    1000000.00|\n",
      "|     12|{\"genero\": \"male\"...|             4|secure_retirement|         medium|         true|               true|            false|      null|      null|          null|\n",
      "|     13|{\"genero\": \"male\"...|             4|secure_retirement|            low|         true|               true|            false|      null| 600000.00|     200000.00|\n",
      "|     14|{\"genero\": \"male\"...|             4|     build_wealth|         medium|         true|               true|            false|      null|  70000.00|       2000.00|\n",
      "|     15|{\"genero\": \"femal...|             3|secure_retirement|            low|         true|              false|            false| 200000.00| 800000.00|     200000.00|\n",
      "|     16|{\"genero\": \"male\"...|             4|     build_wealth|           high|         true|              false|             true|      null| 160000.00|      40000.00|\n",
      "|     17|{\"genero\": \"male\"...|             4| buy_house_or_car|            low|         true|               true|            false| 100000.00|      null|          null|\n",
      "|     18|{\"genero\": \"male\"...|             5|     build_wealth|         medium|        false|               true|            false|2000000.00|      null|          null|\n",
      "|     19|{\"genero\": \"male\"...|             3|secure_retirement|         medium|         true|               true|            false|      null|      null|          null|\n",
      "|     20|{\"genero\": \"male\"...|             2|     build_wealth|         medium|         true|               true|             true|  10000.00|   1500.00|       6000.00|\n",
      "+-------+--------------------+--------------+-----------------+---------------+-------------+-------------------+-----------------+----------+----------+--------------+\n",
      "only showing top 20 rows\n",
      "\n"
     ]
    }
   ],
   "source": [
    "users_df = cast_columns(users_df, users_columns)\n",
    "\n",
    "users_df.show()"
   ],
   "metadata": {
    "collapsed": false,
    "pycharm": {
     "name": "#%%\n"
    }
   }
  },
  {
   "cell_type": "code",
   "execution_count": 37,
   "outputs": [
    {
     "name": "stdout",
     "output_type": "stream",
     "text": [
      "+-------+--------------+-----------------+---------------+-------------+-------------------+-----------------+----------+----------+--------------+------+--------------------+-----+\n",
      "|user_id|nivel_de_risco|         objetivo|perfil_de_risco|fez_adicional|fez_resgate_parcial|fez_resgate_total|  poupanca|renda_fixa|renda_variavel|genero|        estado_civil|idade|\n",
      "+-------+--------------+-----------------+---------------+-------------+-------------------+-----------------+----------+----------+--------------+------+--------------------+-----+\n",
      "|      1|             3|     build_wealth|         medium|         true|              false|            false| 100000.00|      null|          null|  male|CASADO(A) COM BRA...|   40|\n",
      "|      2|             4|     build_wealth|            low|         true|               true|            false| 190000.00| 190000.00|          null|female|CASADO(A) COM BRA...|   38|\n",
      "|      3|             5|     build_wealth|         medium|         true|              false|            false|      null|   1200.00|          null|  male|       UNIAO ESTAVEL|   32|\n",
      "|      4|             3|secure_retirement|         medium|         true|              false|            false|      null|      null|          null|  male|         SOLTEIRO(A)|   33|\n",
      "|      5|             5|secure_retirement|           high|         true|               true|            false|  20000.00|   7500.00|          null|  male|CASADO(A) COM BRA...|   45|\n",
      "|      6|             2|  child_education|            low|         true|               true|            false|  50000.00| 400000.00|      30000.00|female|       DIVORCIADO(A)|   51|\n",
      "|      7|             5|     build_wealth|           high|         true|               true|            false|      null| 300000.00|          null|  male|         SOLTEIRO(A)|   44|\n",
      "|      8|             3|     build_wealth|            low|         true|               true|             true|      null|  24000.00|          null|  male|         SOLTEIRO(A)|   31|\n",
      "|      9|             5|     build_wealth|           high|         true|              false|            false|      null|      null|          null|  male|         SOLTEIRO(A)|   25|\n",
      "|     10|             4|     build_wealth|         medium|         true|               true|            false|      null|      null|          null|  male|CASADO(A) COM BRA...|   44|\n",
      "|     11|             3|secure_retirement|           high|         true|              false|            false|1000000.00|4000000.00|    1000000.00|  male|CASADO(A) COM BRA...|   50|\n",
      "|     12|             4|secure_retirement|         medium|         true|               true|            false|      null|      null|          null|  male|       UNIAO ESTAVEL|   36|\n",
      "|     13|             4|secure_retirement|            low|         true|               true|            false|      null| 600000.00|     200000.00|  male|CASADO(A) COM BRA...|   43|\n",
      "|     14|             4|     build_wealth|         medium|         true|               true|            false|      null|  70000.00|       2000.00|  male|CASADO(A) COM BRA...|   48|\n",
      "|     15|             3|secure_retirement|            low|         true|              false|            false| 200000.00| 800000.00|     200000.00|female|            VIUVO(A)|   73|\n",
      "|     16|             4|     build_wealth|           high|         true|              false|             true|      null| 160000.00|      40000.00|  male|         SOLTEIRO(A)|   33|\n",
      "|     17|             4| buy_house_or_car|            low|         true|               true|            false| 100000.00|      null|          null|  male|         SOLTEIRO(A)|   27|\n",
      "|     18|             5|     build_wealth|         medium|        false|               true|            false|2000000.00|      null|          null|  male|         SOLTEIRO(A)|   33|\n",
      "|     19|             3|secure_retirement|         medium|         true|               true|            false|      null|      null|          null|  male|CASADO(A) COM BRA...|   43|\n",
      "|     20|             2|     build_wealth|         medium|         true|               true|             true|  10000.00|   1500.00|       6000.00|  male|CASADO(A) COM BRA...|   44|\n",
      "+-------+--------------+-----------------+---------------+-------------+-------------------+-----------------+----------+----------+--------------+------+--------------------+-----+\n",
      "only showing top 20 rows\n",
      "\n"
     ]
    }
   ],
   "source": [
    "users_df = parse_json_columns(users_df, users_columns, users_json_columns)\n",
    "\n",
    "users_df.show()"
   ],
   "metadata": {
    "collapsed": false,
    "pycharm": {
     "name": "#%%\n"
    }
   }
  },
  {
   "cell_type": "code",
   "execution_count": 38,
   "outputs": [
    {
     "name": "stdout",
     "output_type": "stream",
     "text": [
      "+-------+--------------+-----------------+---------------+-------------+-------------------+-----------------+----------+----------+--------------+------+--------------------+-----+\n",
      "|user_id|nivel_de_risco|         objetivo|perfil_de_risco|fez_adicional|fez_resgate_parcial|fez_resgate_total|  poupanca|renda_fixa|renda_variavel|genero|        estado_civil|idade|\n",
      "+-------+--------------+-----------------+---------------+-------------+-------------------+-----------------+----------+----------+--------------+------+--------------------+-----+\n",
      "|      1|             3|     build_wealth|         medium|         true|              false|            false| 100000.00|      null|          null|  male|CASADO(A) COM BRA...|   40|\n",
      "|      2|             4|     build_wealth|            low|         true|               true|            false| 190000.00| 190000.00|          null|female|CASADO(A) COM BRA...|   38|\n",
      "|      3|             5|     build_wealth|         medium|         true|              false|            false|      null|   1200.00|          null|  male|       UNIAO ESTAVEL|   32|\n",
      "|      4|             3|secure_retirement|         medium|         true|              false|            false|      null|      null|          null|  male|         SOLTEIRO(A)|   33|\n",
      "|      5|             5|secure_retirement|           high|         true|               true|            false|  20000.00|   7500.00|          null|  male|CASADO(A) COM BRA...|   45|\n",
      "|      6|             2|  child_education|            low|         true|               true|            false|  50000.00| 400000.00|      30000.00|female|       DIVORCIADO(A)|   51|\n",
      "|      7|             5|     build_wealth|           high|         true|               true|            false|      null| 300000.00|          null|  male|         SOLTEIRO(A)|   44|\n",
      "|      8|             3|     build_wealth|            low|         true|               true|             true|      null|  24000.00|          null|  male|         SOLTEIRO(A)|   31|\n",
      "|      9|             5|     build_wealth|           high|         true|              false|            false|      null|      null|          null|  male|         SOLTEIRO(A)|   25|\n",
      "|     10|             4|     build_wealth|         medium|         true|               true|            false|      null|      null|          null|  male|CASADO(A) COM BRA...|   44|\n",
      "|     11|             3|secure_retirement|           high|         true|              false|            false|1000000.00|4000000.00|    1000000.00|  male|CASADO(A) COM BRA...|   50|\n",
      "|     12|             4|secure_retirement|         medium|         true|               true|            false|      null|      null|          null|  male|       UNIAO ESTAVEL|   36|\n",
      "|     13|             4|secure_retirement|            low|         true|               true|            false|      null| 600000.00|     200000.00|  male|CASADO(A) COM BRA...|   43|\n",
      "|     14|             4|     build_wealth|         medium|         true|               true|            false|      null|  70000.00|       2000.00|  male|CASADO(A) COM BRA...|   48|\n",
      "|     15|             3|secure_retirement|            low|         true|              false|            false| 200000.00| 800000.00|     200000.00|female|            VIUVO(A)|   73|\n",
      "|     16|             4|     build_wealth|           high|         true|              false|             true|      null| 160000.00|      40000.00|  male|         SOLTEIRO(A)|   33|\n",
      "|     17|             4| buy_house_or_car|            low|         true|               true|            false| 100000.00|      null|          null|  male|         SOLTEIRO(A)|   27|\n",
      "|     18|             5|     build_wealth|         medium|        false|               true|            false|2000000.00|      null|          null|  male|         SOLTEIRO(A)|   33|\n",
      "|     19|             3|secure_retirement|         medium|         true|               true|            false|      null|      null|          null|  male|CASADO(A) COM BRA...|   43|\n",
      "|     20|             2|     build_wealth|         medium|         true|               true|             true|  10000.00|   1500.00|       6000.00|  male|CASADO(A) COM BRA...|   44|\n",
      "+-------+--------------+-----------------+---------------+-------------+-------------------+-----------------+----------+----------+--------------+------+--------------------+-----+\n",
      "only showing top 20 rows\n",
      "\n"
     ]
    }
   ],
   "source": [
    "new_columns = {\n",
    "    'idade': (types.IntegerType, {}),\n",
    "}\n",
    "\n",
    "users_df = cast_columns(users_df, new_columns)\n",
    "\n",
    "users_df.show()"
   ],
   "metadata": {
    "collapsed": false,
    "pycharm": {
     "name": "#%%\n"
    }
   }
  },
  {
   "cell_type": "code",
   "execution_count": 40,
   "outputs": [
    {
     "name": "stdout",
     "output_type": "stream",
     "text": [
      "+-------+--------------+-----------------+---------------+-------------+-------------------+-----------------+----------+----------+--------------+------+-------------+-----+\n",
      "|user_id|nivel_de_risco|         objetivo|perfil_de_risco|fez_adicional|fez_resgate_parcial|fez_resgate_total|  poupanca|renda_fixa|renda_variavel|genero| estado_civil|idade|\n",
      "+-------+--------------+-----------------+---------------+-------------+-------------------+-----------------+----------+----------+--------------+------+-------------+-----+\n",
      "|      1|             3|     build_wealth|         medium|         true|              false|            false| 100000.00|      null|          null|  male|    CASADO(A)|   40|\n",
      "|      2|             4|     build_wealth|            low|         true|               true|            false| 190000.00| 190000.00|          null|female|    CASADO(A)|   38|\n",
      "|      3|             5|     build_wealth|         medium|         true|              false|            false|      null|   1200.00|          null|  male|    CASADO(A)|   32|\n",
      "|      4|             3|secure_retirement|         medium|         true|              false|            false|      null|      null|          null|  male|  SOLTEIRO(A)|   33|\n",
      "|      5|             5|secure_retirement|           high|         true|               true|            false|  20000.00|   7500.00|          null|  male|    CASADO(A)|   45|\n",
      "|      6|             2|  child_education|            low|         true|               true|            false|  50000.00| 400000.00|      30000.00|female|DIVORCIADO(A)|   51|\n",
      "|      7|             5|     build_wealth|           high|         true|               true|            false|      null| 300000.00|          null|  male|  SOLTEIRO(A)|   44|\n",
      "|      8|             3|     build_wealth|            low|         true|               true|             true|      null|  24000.00|          null|  male|  SOLTEIRO(A)|   31|\n",
      "|      9|             5|     build_wealth|           high|         true|              false|            false|      null|      null|          null|  male|  SOLTEIRO(A)|   25|\n",
      "|     10|             4|     build_wealth|         medium|         true|               true|            false|      null|      null|          null|  male|    CASADO(A)|   44|\n",
      "|     11|             3|secure_retirement|           high|         true|              false|            false|1000000.00|4000000.00|    1000000.00|  male|    CASADO(A)|   50|\n",
      "|     12|             4|secure_retirement|         medium|         true|               true|            false|      null|      null|          null|  male|    CASADO(A)|   36|\n",
      "|     13|             4|secure_retirement|            low|         true|               true|            false|      null| 600000.00|     200000.00|  male|    CASADO(A)|   43|\n",
      "|     14|             4|     build_wealth|         medium|         true|               true|            false|      null|  70000.00|       2000.00|  male|    CASADO(A)|   48|\n",
      "|     15|             3|secure_retirement|            low|         true|              false|            false| 200000.00| 800000.00|     200000.00|female|     VIUVO(A)|   73|\n",
      "|     16|             4|     build_wealth|           high|         true|              false|             true|      null| 160000.00|      40000.00|  male|  SOLTEIRO(A)|   33|\n",
      "|     17|             4| buy_house_or_car|            low|         true|               true|            false| 100000.00|      null|          null|  male|  SOLTEIRO(A)|   27|\n",
      "|     18|             5|     build_wealth|         medium|        false|               true|            false|2000000.00|      null|          null|  male|  SOLTEIRO(A)|   33|\n",
      "|     19|             3|secure_retirement|         medium|         true|               true|            false|      null|      null|          null|  male|    CASADO(A)|   43|\n",
      "|     20|             2|     build_wealth|         medium|         true|               true|             true|  10000.00|   1500.00|       6000.00|  male|    CASADO(A)|   44|\n",
      "+-------+--------------+-----------------+---------------+-------------+-------------------+-----------------+----------+----------+--------------+------+-------------+-----+\n",
      "only showing top 20 rows\n",
      "\n"
     ]
    }
   ],
   "source": [
    "users_df = remap_columns(users_df, users_remap_columns)\n",
    "\n",
    "users_df.show()"
   ],
   "metadata": {
    "collapsed": false,
    "pycharm": {
     "name": "#%%\n"
    }
   }
  },
  {
   "cell_type": "code",
   "execution_count": 59,
   "outputs": [
    {
     "name": "stdout",
     "output_type": "stream",
     "text": [
      "+-------+--------------+-----------------+---------------+-------------+-------------------+-----------------+----------+----------+--------------+------+-------------+-----+--------------------------+----------------------+\n",
      "|user_id|nivel_de_risco|         objetivo|perfil_de_risco|fez_adicional|fez_resgate_parcial|fez_resgate_total|  poupanca|renda_fixa|renda_variavel|genero| estado_civil|idade|flag_investidor_recorrente|investimentos_externos|\n",
      "+-------+--------------+-----------------+---------------+-------------+-------------------+-----------------+----------+----------+--------------+------+-------------+-----+--------------------------+----------------------+\n",
      "|      1|             3|     build_wealth|         medium|         true|              false|            false| 100000.00|      0.00|          0.00|  male|    CASADO(A)|   40|                      true|             100000.00|\n",
      "|      2|             4|     build_wealth|            low|         true|               true|            false| 190000.00| 190000.00|          0.00|female|    CASADO(A)|   38|                     false|             380000.00|\n",
      "|      3|             5|     build_wealth|         medium|         true|              false|            false|      0.00|   1200.00|          0.00|  male|    CASADO(A)|   32|                      true|               1200.00|\n",
      "|      4|             3|secure_retirement|         medium|         true|              false|            false|      0.00|      0.00|          0.00|  male|  SOLTEIRO(A)|   33|                      true|                  0.00|\n",
      "|      5|             5|secure_retirement|           high|         true|               true|            false|  20000.00|   7500.00|          0.00|  male|    CASADO(A)|   45|                     false|              27500.00|\n",
      "|      6|             2|  child_education|            low|         true|               true|            false|  50000.00| 400000.00|      30000.00|female|DIVORCIADO(A)|   51|                     false|             480000.00|\n",
      "|      7|             5|     build_wealth|           high|         true|               true|            false|      0.00| 300000.00|          0.00|  male|  SOLTEIRO(A)|   44|                     false|             300000.00|\n",
      "|      8|             3|     build_wealth|            low|         true|               true|             true|      0.00|  24000.00|          0.00|  male|  SOLTEIRO(A)|   31|                     false|              24000.00|\n",
      "|      9|             5|     build_wealth|           high|         true|              false|            false|      0.00|      0.00|          0.00|  male|  SOLTEIRO(A)|   25|                      true|                  0.00|\n",
      "|     10|             4|     build_wealth|         medium|         true|               true|            false|      0.00|      0.00|          0.00|  male|    CASADO(A)|   44|                     false|                  0.00|\n",
      "|     11|             3|secure_retirement|           high|         true|              false|            false|1000000.00|4000000.00|    1000000.00|  male|    CASADO(A)|   50|                      true|            6000000.00|\n",
      "|     12|             4|secure_retirement|         medium|         true|               true|            false|      0.00|      0.00|          0.00|  male|    CASADO(A)|   36|                     false|                  0.00|\n",
      "|     13|             4|secure_retirement|            low|         true|               true|            false|      0.00| 600000.00|     200000.00|  male|    CASADO(A)|   43|                     false|             800000.00|\n",
      "|     14|             4|     build_wealth|         medium|         true|               true|            false|      0.00|  70000.00|       2000.00|  male|    CASADO(A)|   48|                     false|              72000.00|\n",
      "|     15|             3|secure_retirement|            low|         true|              false|            false| 200000.00| 800000.00|     200000.00|female|     VIUVO(A)|   73|                      true|            1200000.00|\n",
      "|     16|             4|     build_wealth|           high|         true|              false|             true|      0.00| 160000.00|      40000.00|  male|  SOLTEIRO(A)|   33|                     false|             200000.00|\n",
      "|     17|             4| buy_house_or_car|            low|         true|               true|            false| 100000.00|      0.00|          0.00|  male|  SOLTEIRO(A)|   27|                     false|             100000.00|\n",
      "|     18|             5|     build_wealth|         medium|        false|               true|            false|2000000.00|      0.00|          0.00|  male|  SOLTEIRO(A)|   33|                     false|            2000000.00|\n",
      "|     19|             3|secure_retirement|         medium|         true|               true|            false|      0.00|      0.00|          0.00|  male|    CASADO(A)|   43|                     false|                  0.00|\n",
      "|     20|             2|     build_wealth|         medium|         true|               true|             true|  10000.00|   1500.00|       6000.00|  male|    CASADO(A)|   44|                     false|              17500.00|\n",
      "+-------+--------------+-----------------+---------------+-------------+-------------------+-----------------+----------+----------+--------------+------+-------------+-----+--------------------------+----------------------+\n",
      "only showing top 20 rows\n",
      "\n"
     ]
    }
   ],
   "source": [
    "users_df = users_df.fillna({\n",
    "    'poupanca': 0,\n",
    "    'renda_fixa': 0,\n",
    "    'renda_variavel': 0,\n",
    "})\n",
    "\n",
    "users_df = users_df.withColumn(\n",
    "        'flag_investidor_recorrente',\n",
    "        users_df.fez_adicional & ~ (users_df.fez_resgate_parcial | users_df.fez_resgate_total)\n",
    ")\n",
    "\n",
    "users_df = users_df.withColumn(\n",
    "        'investimentos_externos',\n",
    "        sum([users_df.poupanca, users_df.renda_fixa, users_df.renda_variavel])\n",
    ")\n",
    "\n",
    "users_df.show()"
   ],
   "metadata": {
    "collapsed": false,
    "pycharm": {
     "name": "#%%\n"
    }
   }
  },
  {
   "cell_type": "code",
   "execution_count": 41,
   "outputs": [
    {
     "name": "stdout",
     "output_type": "stream",
     "text": [
      "+-------+-------------------+-------------+--------------+\n",
      "|user_id|          timestamp|       evento|valor_simulado|\n",
      "+-------+-------------------+-------------+--------------+\n",
      "|      1|2017-01-06 11:40:25|     Homepage|          null|\n",
      "|      1|2017-01-29 21:30:56|     Homepage|          null|\n",
      "|      1|2017-01-29 21:40:04|     Homepage|          null|\n",
      "|      1|2017-01-29 21:40:04|     Homepage|          null|\n",
      "|      1|2017-08-01 18:40:27|     Homepage|          null|\n",
      "|      1|2017-08-03 11:18:19|     Homepage|          null|\n",
      "|      1|2017-08-03 14:08:16|     Homepage|          null|\n",
      "|      1|2017-08-08 14:30:37|     Homepage|          null|\n",
      "|      1|2017-08-15 16:47:01|Questionnaire|        120000|\n",
      "|      1|2017-08-15 17:27:11|Questionnaire|        120000|\n",
      "|      1|2017-08-15 17:27:58|Questionnaire|        120000|\n",
      "|      1|2017-08-15 17:40:30|Questionnaire|        300000|\n",
      "|      1|2017-08-15 21:15:12|     Homepage|          null|\n",
      "|      1|2017-08-15 21:29:36|Questionnaire|        300000|\n",
      "|      1|2017-08-15 21:32:19|Questionnaire|        300000|\n",
      "|      1|2017-08-18 16:56:15|     Homepage|          null|\n",
      "|      1|2017-11-16 01:50:11|Questionnaire|         15000|\n",
      "|      2|2017-01-20 18:31:00|     Homepage|          null|\n",
      "|      2|2017-02-01 15:01:13|Questionnaire|          1000|\n",
      "|      2|2017-02-09 17:46:39|     Homepage|          null|\n",
      "+-------+-------------------+-------------+--------------+\n",
      "only showing top 20 rows\n",
      "\n"
     ]
    }
   ],
   "source": [
    "funnel_df = spark.read.csv('/data/funil.csv', **csv_params)\n",
    "\n",
    "funnel_df.show()"
   ],
   "metadata": {
    "collapsed": false,
    "pycharm": {
     "name": "#%%\n"
    }
   }
  },
  {
   "cell_type": "code",
   "execution_count": 75,
   "outputs": [
    {
     "name": "stdout",
     "output_type": "stream",
     "text": [
      "+-------+-------------------+-------------+--------------+\n",
      "|user_id|          timestamp|       evento|valor_simulado|\n",
      "+-------+-------------------+-------------+--------------+\n",
      "|      1|2017-01-06 11:40:25|     Homepage|          null|\n",
      "|      1|2017-01-29 21:30:56|     Homepage|          null|\n",
      "|      1|2017-01-29 21:40:04|     Homepage|          null|\n",
      "|      1|2017-01-29 21:40:04|     Homepage|          null|\n",
      "|      1|2017-08-01 18:40:27|     Homepage|          null|\n",
      "|      1|2017-08-03 11:18:19|     Homepage|          null|\n",
      "|      1|2017-08-03 14:08:16|     Homepage|          null|\n",
      "|      1|2017-08-08 14:30:37|     Homepage|          null|\n",
      "|      1|2017-08-15 16:47:01|Questionnaire|     120000.00|\n",
      "|      1|2017-08-15 17:27:11|Questionnaire|     120000.00|\n",
      "|      1|2017-08-15 17:27:58|Questionnaire|     120000.00|\n",
      "|      1|2017-08-15 17:40:30|Questionnaire|     300000.00|\n",
      "|      1|2017-08-15 21:15:12|     Homepage|          null|\n",
      "|      1|2017-08-15 21:29:36|Questionnaire|     300000.00|\n",
      "|      1|2017-08-15 21:32:19|Questionnaire|     300000.00|\n",
      "|      1|2017-08-18 16:56:15|     Homepage|          null|\n",
      "|      1|2017-11-16 01:50:11|Questionnaire|      15000.00|\n",
      "|      2|2017-01-20 18:31:00|     Homepage|          null|\n",
      "|      2|2017-02-01 15:01:13|Questionnaire|       1000.00|\n",
      "|      2|2017-02-09 17:46:39|     Homepage|          null|\n",
      "+-------+-------------------+-------------+--------------+\n",
      "only showing top 20 rows\n",
      "\n"
     ]
    }
   ],
   "source": [
    "funnel_columns = {\n",
    "    'user_id': (types.IntegerType, {}),\n",
    "    'timestamp': (types.TimestampType, {}),\n",
    "    'evento': (types.StringType, {}),\n",
    "    'valor_simulado': (types.DecimalType, {'precision': 10, 'scale': 2}),\n",
    "}\n",
    "\n",
    "funnel_df = cast_columns(funnel_df, funnel_columns)\n",
    "\n",
    "funnel_df.show()"
   ],
   "metadata": {
    "collapsed": false,
    "pycharm": {
     "name": "#%%\n"
    }
   }
  },
  {
   "cell_type": "code",
   "execution_count": 76,
   "outputs": [
    {
     "name": "stdout",
     "output_type": "stream",
     "text": [
      "+-------+--------------+------------+---------------+-------------+-------------------+-----------------+---------+----------+--------------+------+------------+-----+--------------------------+----------------------+-------------------+-------------+--------------+\n",
      "|user_id|nivel_de_risco|    objetivo|perfil_de_risco|fez_adicional|fez_resgate_parcial|fez_resgate_total| poupanca|renda_fixa|renda_variavel|genero|estado_civil|idade|flag_investidor_recorrente|investimentos_externos|          timestamp|       evento|valor_simulado|\n",
      "+-------+--------------+------------+---------------+-------------+-------------------+-----------------+---------+----------+--------------+------+------------+-----+--------------------------+----------------------+-------------------+-------------+--------------+\n",
      "|      1|             3|build_wealth|         medium|         true|              false|            false|100000.00|      0.00|          0.00|  male|   CASADO(A)|   40|                      true|             100000.00|2017-11-16 01:50:11|Questionnaire|      15000.00|\n",
      "|      1|             3|build_wealth|         medium|         true|              false|            false|100000.00|      0.00|          0.00|  male|   CASADO(A)|   40|                      true|             100000.00|2017-08-18 16:56:15|     Homepage|          null|\n",
      "|      1|             3|build_wealth|         medium|         true|              false|            false|100000.00|      0.00|          0.00|  male|   CASADO(A)|   40|                      true|             100000.00|2017-08-15 21:32:19|Questionnaire|     300000.00|\n",
      "|      1|             3|build_wealth|         medium|         true|              false|            false|100000.00|      0.00|          0.00|  male|   CASADO(A)|   40|                      true|             100000.00|2017-08-15 21:29:36|Questionnaire|     300000.00|\n",
      "|      1|             3|build_wealth|         medium|         true|              false|            false|100000.00|      0.00|          0.00|  male|   CASADO(A)|   40|                      true|             100000.00|2017-08-15 21:15:12|     Homepage|          null|\n",
      "|      1|             3|build_wealth|         medium|         true|              false|            false|100000.00|      0.00|          0.00|  male|   CASADO(A)|   40|                      true|             100000.00|2017-08-15 17:40:30|Questionnaire|     300000.00|\n",
      "|      1|             3|build_wealth|         medium|         true|              false|            false|100000.00|      0.00|          0.00|  male|   CASADO(A)|   40|                      true|             100000.00|2017-08-15 17:27:58|Questionnaire|     120000.00|\n",
      "|      1|             3|build_wealth|         medium|         true|              false|            false|100000.00|      0.00|          0.00|  male|   CASADO(A)|   40|                      true|             100000.00|2017-08-15 17:27:11|Questionnaire|     120000.00|\n",
      "|      1|             3|build_wealth|         medium|         true|              false|            false|100000.00|      0.00|          0.00|  male|   CASADO(A)|   40|                      true|             100000.00|2017-08-15 16:47:01|Questionnaire|     120000.00|\n",
      "|      1|             3|build_wealth|         medium|         true|              false|            false|100000.00|      0.00|          0.00|  male|   CASADO(A)|   40|                      true|             100000.00|2017-08-08 14:30:37|     Homepage|          null|\n",
      "|      1|             3|build_wealth|         medium|         true|              false|            false|100000.00|      0.00|          0.00|  male|   CASADO(A)|   40|                      true|             100000.00|2017-08-03 14:08:16|     Homepage|          null|\n",
      "|      1|             3|build_wealth|         medium|         true|              false|            false|100000.00|      0.00|          0.00|  male|   CASADO(A)|   40|                      true|             100000.00|2017-08-03 11:18:19|     Homepage|          null|\n",
      "|      1|             3|build_wealth|         medium|         true|              false|            false|100000.00|      0.00|          0.00|  male|   CASADO(A)|   40|                      true|             100000.00|2017-08-01 18:40:27|     Homepage|          null|\n",
      "|      1|             3|build_wealth|         medium|         true|              false|            false|100000.00|      0.00|          0.00|  male|   CASADO(A)|   40|                      true|             100000.00|2017-01-29 21:40:04|     Homepage|          null|\n",
      "|      1|             3|build_wealth|         medium|         true|              false|            false|100000.00|      0.00|          0.00|  male|   CASADO(A)|   40|                      true|             100000.00|2017-01-29 21:40:04|     Homepage|          null|\n",
      "|      1|             3|build_wealth|         medium|         true|              false|            false|100000.00|      0.00|          0.00|  male|   CASADO(A)|   40|                      true|             100000.00|2017-01-29 21:30:56|     Homepage|          null|\n",
      "|      1|             3|build_wealth|         medium|         true|              false|            false|100000.00|      0.00|          0.00|  male|   CASADO(A)|   40|                      true|             100000.00|2017-01-06 11:40:25|     Homepage|          null|\n",
      "|      2|             4|build_wealth|            low|         true|               true|            false|190000.00| 190000.00|          0.00|female|   CASADO(A)|   38|                     false|             380000.00|2017-10-17 14:49:39|     Homepage|          null|\n",
      "|      2|             4|build_wealth|            low|         true|               true|            false|190000.00| 190000.00|          0.00|female|   CASADO(A)|   38|                     false|             380000.00|2017-05-30 14:36:19|Questionnaire|       1000.00|\n",
      "|      2|             4|build_wealth|            low|         true|               true|            false|190000.00| 190000.00|          0.00|female|   CASADO(A)|   38|                     false|             380000.00|2017-05-09 17:44:05|     Homepage|          null|\n",
      "+-------+--------------+------------+---------------+-------------+-------------------+-----------------+---------+----------+--------------+------+------------+-----+--------------------------+----------------------+-------------------+-------------+--------------+\n",
      "only showing top 20 rows\n",
      "\n"
     ]
    }
   ],
   "source": [
    "join = users_df.join(funnel_df, ['user_id'], how='left')\n",
    "\n",
    "join.show()"
   ],
   "metadata": {
    "collapsed": false,
    "pycharm": {
     "name": "#%%\n"
    }
   }
  },
  {
   "cell_type": "code",
   "execution_count": 85,
   "outputs": [
    {
     "name": "stdout",
     "output_type": "stream",
     "text": [
      "+-------+------+-------------+-----+--------------+-----------------+---------------+--------+--------------+--------------------------+----------------------+\n",
      "|user_id|genero| estado_civil|idade|nivel_de_risco|         objetivo|perfil_de_risco|homepage|valor_simulado|flag_investidor_recorrente|investimentos_externos|\n",
      "+-------+------+-------------+-----+--------------+-----------------+---------------+--------+--------------+--------------------------+----------------------+\n",
      "|     51|female|    CASADO(A)|   51|             2|     build_wealth|            low| 2017-06|      10000.00|                     false|             200000.00|\n",
      "|      7|  male|  SOLTEIRO(A)|   44|             5|     build_wealth|           high| 2017-03|      20000.00|                     false|             300000.00|\n",
      "|     15|female|     VIUVO(A)|   73|             3|secure_retirement|            low| 2017-11|      15000.00|                      true|            1200000.00|\n",
      "|     54|  male|  SOLTEIRO(A)|   28|             3|     build_wealth|           high| 2017-06|     100000.00|                     false|              40000.00|\n",
      "|     11|  male|    CASADO(A)|   50|             3|secure_retirement|           high| 2017-07|      25000.00|                      true|            6000000.00|\n",
      "|     29|  male|    CASADO(A)|   34|             3|     build_wealth|           high| 2017-01|      13000.00|                      true|                  0.00|\n",
      "|     69|  male|  SOLTEIRO(A)|   29|             3|     build_wealth|         medium| 2017-01|       5000.00|                     false|             540000.00|\n",
      "|     42|female|    CASADO(A)|   34|             2| buy_house_or_car|      risk-free| 2017-01|       1000.00|                      true|             250000.00|\n",
      "|     73|  male|DIVORCIADO(A)|   37|             5|     build_wealth|           high| 2017-02|      15000.00|                     false|              10000.00|\n",
      "|     87|  male|    CASADO(A)|   35|             4|     build_wealth|         medium| 2017-02|      50000.00|                     false|              30000.00|\n",
      "|     64|female|    CASADO(A)|   46|             3|     build_wealth|         medium| 2017-03|      10000.00|                      true|              26900.20|\n",
      "|      3|  male|    CASADO(A)|   32|             5|     build_wealth|         medium| 2017-01|       1000.00|                      true|               1200.00|\n",
      "|     30|  male|  SOLTEIRO(A)|   40|             2|     build_wealth|           high| 2017-01|      10000.00|                     false|              20000.00|\n",
      "|     34|female|    CASADO(A)|   29|             4|     build_wealth|         medium| 2017-03|     280000.00|                     false|                  0.00|\n",
      "|     59|  male|  SOLTEIRO(A)|   45|             2|     build_wealth|         medium| 2017-01|      50000.00|                     false|             682771.00|\n",
      "|      8|  male|  SOLTEIRO(A)|   31|             3|     build_wealth|            low| 2017-04|      25000.00|                     false|              24000.00|\n",
      "|     22|  male|  SOLTEIRO(A)|   28|             4| buy_house_or_car|            low| 2017-01|      30000.00|                     false|            4400000.00|\n",
      "|     28|  male|  SOLTEIRO(A)|   33|             3|     build_wealth|           high| 2017-02|      25000.00|                     false|            1000000.00|\n",
      "|     85|  male|  SOLTEIRO(A)|   26|             4|     build_wealth|           high| 2017-06|     110000.00|                     false|                  0.00|\n",
      "|     16|  male|  SOLTEIRO(A)|   33|             4|     build_wealth|           high| 2017-11|      15000.00|                     false|             200000.00|\n",
      "+-------+------+-------------+-----+--------------+-----------------+---------------+--------+--------------+--------------------------+----------------------+\n",
      "only showing top 20 rows\n",
      "\n"
     ]
    }
   ],
   "source": [
    "window = Window\\\n",
    "    .partitionBy(users_df.user_id)\\\n",
    "    .orderBy(funnel_df.timestamp)\\\n",
    "    .rowsBetween(Window.unboundedPreceding, Window.unboundedFollowing)\n",
    "\n",
    "result = join.select(\n",
    "        users_df.user_id, users_df.genero, users_df.estado_civil, users_df.idade, users_df.nivel_de_risco,\n",
    "        users_df.objetivo, users_df.perfil_de_risco,\n",
    "        date_format(first(funnel_df.timestamp, True).over(window), 'yyyy-MM').alias('homepage'),\n",
    "        last(funnel_df.valor_simulado, True).over(window).alias('valor_simulado'),\n",
    "        users_df.flag_investidor_recorrente, users_df.investimentos_externos\n",
    ").distinct()\n",
    "\n",
    "result.show()"
   ],
   "metadata": {
    "collapsed": false,
    "pycharm": {
     "name": "#%%\n"
    }
   }
  },
  {
   "cell_type": "code",
   "execution_count": 90,
   "outputs": [],
   "source": [
    "result.toPandas().to_csv('/data/result.csv', header=True, sep=';')"
   ],
   "metadata": {
    "collapsed": false,
    "pycharm": {
     "name": "#%%\n"
    }
   }
  },
  {
   "cell_type": "code",
   "execution_count": null,
   "outputs": [],
   "source": [
    "\n"
   ],
   "metadata": {
    "collapsed": false,
    "pycharm": {
     "name": "#%%\n"
    }
   }
  }
 ],
 "metadata": {
  "kernelspec": {
   "display_name": "Python 3",
   "language": "python",
   "name": "python3"
  },
  "language_info": {
   "codemirror_mode": {
    "name": "ipython",
    "version": 2
   },
   "file_extension": ".py",
   "mimetype": "text/x-python",
   "name": "python",
   "nbconvert_exporter": "python",
   "pygments_lexer": "ipython2",
   "version": "2.7.6"
  }
 },
 "nbformat": 4,
 "nbformat_minor": 0
}